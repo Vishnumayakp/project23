{
 "cells": [
  {
   "cell_type": "code",
   "execution_count": 2,
   "id": "1820c28c",
   "metadata": {},
   "outputs": [
    {
     "name": "stdout",
     "output_type": "stream",
     "text": [
      "B is greater than A\n"
     ]
    }
   ],
   "source": [
    "a=20\n",
    "b=30\n",
    "if a>b:\n",
    "    print(\"A is greater than B\")\n",
    "else:\n",
    "    print(\"B is greater than A\")\n"
   ]
  },
  {
   "cell_type": "code",
   "execution_count": 12,
   "id": "3f8ac019",
   "metadata": {},
   "outputs": [
    {
     "name": "stdout",
     "output_type": "stream",
     "text": [
      "Enter a number for A:5000\n",
      "you have discount: 500.0\n",
      "Total amount is: 4500.0\n"
     ]
    }
   ],
   "source": [
    "a = int(input(\"Enter a number for A:\"))\n",
    "if a>2500:\n",
    "    discount = a*(10/100)\n",
    "    a=a-discount\n",
    " \n",
    "    print(\"you have discount:\",discount)\n",
    "    print(\"Total amount is:\",a)\n",
    "else:\n",
    "    print(\"you have no discount\")"
   ]
  },
  {
   "cell_type": "code",
   "execution_count": 18,
   "id": "eff39456",
   "metadata": {},
   "outputs": [
    {
     "name": "stdout",
     "output_type": "stream",
     "text": [
      "Enter a number for x:0\n",
      "Entered number is negative 0\n"
     ]
    }
   ],
   "source": [
    "x = int(input(\"Enter a number for x:\"))\n",
    "if x>0:\n",
    "    print(\"Entered number is positive\",x)\n",
    "elif a==0:\n",
    "    print(\"it is Zero\")\n",
    "else:\n",
    "    print(\"Entered number is negative\",x)"
   ]
  },
  {
   "cell_type": "code",
   "execution_count": 24,
   "id": "3df755e6",
   "metadata": {},
   "outputs": [
    {
     "name": "stdout",
     "output_type": "stream",
     "text": [
      "enter 1st number:3\n",
      "Enter 2nd number:5\n",
      "Enter the operator/\n",
      "division of A and B is: 0.6\n"
     ]
    }
   ],
   "source": [
    "a=int(input(\"enter 1st number:\"))\n",
    "b=int(input(\"Enter 2nd number:\")) \n",
    "ar=input(\"Enter the operator\")\n",
    " \n",
    "if ar==\"+\":\n",
    "    c=a+b\n",
    "    print(\"sum of A and B is:\",c)\n",
    "elif ar==\"-\":\n",
    "    c=a-b\n",
    "    print(\"sub of A and B is:\",c)\n",
    "\n",
    "elif ar==\"*\":\n",
    "    c=a*b\n",
    "    print(\"multi of A and B is:\",c)\n",
    "elif ar==\"/\":\n",
    "    c=a/b\n",
    "    print(\"division of A and B is:\",c)\n",
    "\n",
    "    \n",
    "\n",
    "\n",
    "    \n",
    "\n"
   ]
  },
  {
   "cell_type": "code",
   "execution_count": 30,
   "id": "6e362333",
   "metadata": {},
   "outputs": [
    {
     "ename": "SyntaxError",
     "evalue": "expected ':' (2921816347.py, line 9)",
     "output_type": "error",
     "traceback": [
      "\u001b[1;36m  Cell \u001b[1;32mIn[30], line 9\u001b[1;36m\u001b[0m\n\u001b[1;33m    else c>a & c>b:\u001b[0m\n\u001b[1;37m         ^\u001b[0m\n\u001b[1;31mSyntaxError\u001b[0m\u001b[1;31m:\u001b[0m expected ':'\n"
     ]
    }
   ],
   "source": [
    "a=int(input(\"enter 1st number:\"))\n",
    "b=int(input(\"Enter 2nd number:\")) \n",
    "c=int(input(\"Enter 3rd number\"))\n",
    "\n",
    "if a>b & a>c:\n",
    "    print(\"A is greater\",a)\n",
    "elif b>a & b>c:\n",
    "    print(\"B is greater \",b)\n",
    "else c>a & c>b:\n",
    "    print(\"C is greater\",c)\n"
   ]
  },
  {
   "cell_type": "code",
   "execution_count": 35,
   "id": "30fceb0b",
   "metadata": {},
   "outputs": [
    {
     "name": "stdout",
     "output_type": "stream",
     "text": [
      "Enter 1st number5\n",
      "Enter 2nd number3\n",
      "Enter 3rd number2\n",
      " A is greater 5\n"
     ]
    }
   ],
   "source": [
    "a=int(input(\"Enter 1st number\"))\n",
    "b=int(input(\"Enter 2nd number\"))\n",
    "c=int(input(\"Enter 3rd number\"))\n",
    "\n",
    "if a>b:\n",
    "    \n",
    "    if a>c:\n",
    "        print(\" A is greater\",a)\n",
    "    \n",
    "    else:\n",
    "        print(\"C is greater\",c)\n",
    "        \n",
    "elif b>c:\n",
    "        print(\" B is greater\",a)\n",
    "        \n",
    "else:\n",
    "    print(\"C is greater\",c)\n",
    "    \n",
    "    \n",
    "    \n",
    "    "
   ]
  },
  {
   "cell_type": "code",
   "execution_count": 10,
   "id": "d64f153a",
   "metadata": {},
   "outputs": [
    {
     "name": "stdout",
     "output_type": "stream",
     "text": [
      "0\n",
      "2\n",
      "4\n",
      "6\n",
      "8\n",
      "10\n"
     ]
    }
   ],
   "source": [
    "for i in range(0,11):\n",
    "    if i%2==0:\n",
    "         print(i)\n",
    "    \n",
    "   \n",
    "    \n",
    "    "
   ]
  },
  {
   "cell_type": "code",
   "execution_count": 16,
   "id": "adb9162e",
   "metadata": {},
   "outputs": [
    {
     "name": "stdout",
     "output_type": "stream",
     "text": [
      "Enter a number:5\n",
      "120\n"
     ]
    }
   ],
   "source": [
    "a=int(input(\"Enter a number:\"))\n",
    "fact = 1\n",
    "for i in range(1,a+1):\n",
    "    fact = fact * i\n",
    "print(fact)\n",
    "    \n",
    "\n",
    "    \n",
    "    \n"
   ]
  },
  {
   "cell_type": "code",
   "execution_count": 19,
   "id": "958e854f",
   "metadata": {},
   "outputs": [
    {
     "name": "stdout",
     "output_type": "stream",
     "text": [
      "Enter the number:9\n",
      "Enter the range:10\n",
      "0 * 9 = 0\n",
      "1 * 9 = 9\n",
      "2 * 9 = 18\n",
      "3 * 9 = 27\n",
      "4 * 9 = 36\n",
      "5 * 9 = 45\n",
      "6 * 9 = 54\n",
      "7 * 9 = 63\n",
      "8 * 9 = 72\n",
      "9 * 9 = 81\n",
      "10 * 9 = 90\n"
     ]
    }
   ],
   "source": [
    "x=int(input(\"Enter the number:\"))\n",
    "y=int(input(\"Enter the range:\"))\n",
    "\n",
    "for i in range(y+1):\n",
    "    print(i,\"*\",x,\"=\",i*x)\n",
    "    \n",
    "    \n",
    "    \n"
   ]
  },
  {
   "cell_type": "code",
   "execution_count": 26,
   "id": "6a223b34",
   "metadata": {},
   "outputs": [
    {
     "name": "stdout",
     "output_type": "stream",
     "text": [
      "vishnumaya\n",
      "faheem\n",
      "sana\n",
      "abhinav\n"
     ]
    }
   ],
   "source": [
    "name=[\"vishnumaya\",\"faheem\",\"sana\",\"abhinav\"]\n",
    "\n",
    "for i in range(len(name)):\n",
    "    print(name[i])"
   ]
  },
  {
   "cell_type": "code",
   "execution_count": 68,
   "id": "012087db",
   "metadata": {},
   "outputs": [
    {
     "ename": "KeyboardInterrupt",
     "evalue": "Interrupted by user",
     "output_type": "error",
     "traceback": [
      "\u001b[1;31m---------------------------------------------------------------------------\u001b[0m",
      "\u001b[1;31mKeyboardInterrupt\u001b[0m                         Traceback (most recent call last)",
      "Cell \u001b[1;32mIn[68], line 1\u001b[0m\n\u001b[1;32m----> 1\u001b[0m x\u001b[38;5;241m=\u001b[39m\u001b[38;5;28mint\u001b[39m(\u001b[38;5;28minput\u001b[39m(\u001b[38;5;124m\"\u001b[39m\u001b[38;5;124mEnter the limit:\u001b[39m\u001b[38;5;124m\"\u001b[39m))\n\u001b[0;32m      2\u001b[0m a \u001b[38;5;241m=\u001b[39m \u001b[38;5;241m0\u001b[39m\n\u001b[0;32m      3\u001b[0m b \u001b[38;5;241m=\u001b[39m \u001b[38;5;241m1\u001b[39m\n",
      "File \u001b[1;32mE:\\anaconda3\\Lib\\site-packages\\ipykernel\\kernelbase.py:1202\u001b[0m, in \u001b[0;36mKernel.raw_input\u001b[1;34m(self, prompt)\u001b[0m\n\u001b[0;32m   1200\u001b[0m     msg \u001b[38;5;241m=\u001b[39m \u001b[38;5;124m\"\u001b[39m\u001b[38;5;124mraw_input was called, but this frontend does not support input requests.\u001b[39m\u001b[38;5;124m\"\u001b[39m\n\u001b[0;32m   1201\u001b[0m     \u001b[38;5;28;01mraise\u001b[39;00m StdinNotImplementedError(msg)\n\u001b[1;32m-> 1202\u001b[0m \u001b[38;5;28;01mreturn\u001b[39;00m \u001b[38;5;28mself\u001b[39m\u001b[38;5;241m.\u001b[39m_input_request(\n\u001b[0;32m   1203\u001b[0m     \u001b[38;5;28mstr\u001b[39m(prompt),\n\u001b[0;32m   1204\u001b[0m     \u001b[38;5;28mself\u001b[39m\u001b[38;5;241m.\u001b[39m_parent_ident[\u001b[38;5;124m\"\u001b[39m\u001b[38;5;124mshell\u001b[39m\u001b[38;5;124m\"\u001b[39m],\n\u001b[0;32m   1205\u001b[0m     \u001b[38;5;28mself\u001b[39m\u001b[38;5;241m.\u001b[39mget_parent(\u001b[38;5;124m\"\u001b[39m\u001b[38;5;124mshell\u001b[39m\u001b[38;5;124m\"\u001b[39m),\n\u001b[0;32m   1206\u001b[0m     password\u001b[38;5;241m=\u001b[39m\u001b[38;5;28;01mFalse\u001b[39;00m,\n\u001b[0;32m   1207\u001b[0m )\n",
      "File \u001b[1;32mE:\\anaconda3\\Lib\\site-packages\\ipykernel\\kernelbase.py:1245\u001b[0m, in \u001b[0;36mKernel._input_request\u001b[1;34m(self, prompt, ident, parent, password)\u001b[0m\n\u001b[0;32m   1242\u001b[0m \u001b[38;5;28;01mexcept\u001b[39;00m \u001b[38;5;167;01mKeyboardInterrupt\u001b[39;00m:\n\u001b[0;32m   1243\u001b[0m     \u001b[38;5;66;03m# re-raise KeyboardInterrupt, to truncate traceback\u001b[39;00m\n\u001b[0;32m   1244\u001b[0m     msg \u001b[38;5;241m=\u001b[39m \u001b[38;5;124m\"\u001b[39m\u001b[38;5;124mInterrupted by user\u001b[39m\u001b[38;5;124m\"\u001b[39m\n\u001b[1;32m-> 1245\u001b[0m     \u001b[38;5;28;01mraise\u001b[39;00m \u001b[38;5;167;01mKeyboardInterrupt\u001b[39;00m(msg) \u001b[38;5;28;01mfrom\u001b[39;00m \u001b[38;5;28;01mNone\u001b[39;00m\n\u001b[0;32m   1246\u001b[0m \u001b[38;5;28;01mexcept\u001b[39;00m \u001b[38;5;167;01mException\u001b[39;00m:\n\u001b[0;32m   1247\u001b[0m     \u001b[38;5;28mself\u001b[39m\u001b[38;5;241m.\u001b[39mlog\u001b[38;5;241m.\u001b[39mwarning(\u001b[38;5;124m\"\u001b[39m\u001b[38;5;124mInvalid Message:\u001b[39m\u001b[38;5;124m\"\u001b[39m, exc_info\u001b[38;5;241m=\u001b[39m\u001b[38;5;28;01mTrue\u001b[39;00m)\n",
      "\u001b[1;31mKeyboardInterrupt\u001b[0m: Interrupted by user"
     ]
    }
   ],
   "source": [
    "x=int(input(\"Enter the limit:\"))\n",
    "a = 0\n",
    "b = 1\n",
    "print(a)\n",
    "print(b)\n",
    "\n",
    "for i in range(0,x+1):\n",
    "    temp = a+b\n",
    "    print(temp)\n",
    "    a = b\n",
    "    b = temp\n",
    "    \n",
    "    \n",
    "    \n",
    "\n"
   ]
  },
  {
   "cell_type": "code",
   "execution_count": 7,
   "id": "ffe01244",
   "metadata": {},
   "outputs": [
    {
     "name": "stdout",
     "output_type": "stream",
     "text": [
      "*\n",
      "*\n",
      "*\n",
      "*\n",
      "*\n",
      "*\n",
      "*\n",
      "*\n",
      "*\n",
      "*\n",
      "*\n",
      "*\n",
      "*\n",
      "*\n",
      "*\n",
      "*\n",
      "*\n",
      "*\n",
      "*\n",
      "*\n",
      "*\n",
      "*\n",
      "*\n",
      "*\n",
      "*\n",
      "*\n",
      "*\n",
      "*\n",
      "*\n",
      "*\n"
     ]
    }
   ],
   "source": [
    "for i in range(0,5):\n",
    "    print(\"*\")\n",
    "    for j in range(0,5):\n",
    "        print(\"*\")\n",
    "    \n",
    "    \n",
    "    \n"
   ]
  },
  {
   "cell_type": "code",
   "execution_count": 14,
   "id": "183d4f0a",
   "metadata": {},
   "outputs": [
    {
     "name": "stdout",
     "output_type": "stream",
     "text": [
      "* \n",
      "* * \n",
      "* * * \n",
      "* * * * \n",
      "* * * * * \n"
     ]
    }
   ],
   "source": [
    "for i in  range(0,5):\n",
    "    for j in range(0,i+1):\n",
    "        print(\"*\",end=\" \")\n",
    "    print('')    \n",
    "        "
   ]
  },
  {
   "cell_type": "code",
   "execution_count": 31,
   "id": "346522ff",
   "metadata": {},
   "outputs": [
    {
     "name": "stdout",
     "output_type": "stream",
     "text": [
      "2\n",
      "3\n",
      "4\n",
      "5\n",
      "6\n",
      "7\n",
      "9\n",
      "10\n",
      "11\n"
     ]
    }
   ],
   "source": [
    "a=1\n",
    "while(a<11):\n",
    "    a=a+1  \n",
    "    if(a==8):\n",
    "        continue\n",
    "    print(a)\n",
    "   "
   ]
  },
  {
   "cell_type": "code",
   "execution_count": 32,
   "id": "16dfce53",
   "metadata": {},
   "outputs": [
    {
     "name": "stdout",
     "output_type": "stream",
     "text": [
      "0\n"
     ]
    }
   ],
   "source": [
    "a=0\n",
    "if(a>5):\n",
    "    pass\n",
    "print(a)"
   ]
  },
  {
   "cell_type": "code",
   "execution_count": 43,
   "id": "0d4a3bb2",
   "metadata": {},
   "outputs": [
    {
     "name": "stdout",
     "output_type": "stream",
     "text": [
      "select stone or paper or scissorpaper\n",
      "paper\n",
      "paper\n",
      "draw\n",
      "uscore 0\n",
      "score 0\n",
      "select stone or paper or scissorpaper\n",
      "scissor\n",
      "paper\n",
      "sys win\n",
      "uscore 0\n",
      "score 1\n",
      "select stone or paper or scissorstone\n",
      "paper\n",
      "stone\n",
      "sys win\n",
      "uscore 0\n",
      "score 2\n",
      "select stone or paper or scissorscissor\n",
      "stone\n",
      "scissor\n",
      "sys win\n",
      "uscore 0\n",
      "score 3\n",
      "select stone or paper or scissorpaper\n",
      "scissor\n",
      "paper\n",
      "sys win\n",
      "uscore 0\n",
      "score 4\n"
     ]
    },
    {
     "ename": "KeyboardInterrupt",
     "evalue": "Interrupted by user",
     "output_type": "error",
     "traceback": [
      "\u001b[1;31m---------------------------------------------------------------------------\u001b[0m",
      "\u001b[1;31mKeyboardInterrupt\u001b[0m                         Traceback (most recent call last)",
      "Cell \u001b[1;32mIn[43], line 9\u001b[0m\n\u001b[0;32m      7\u001b[0m a\u001b[38;5;241m=\u001b[39m[\u001b[38;5;124m\"\u001b[39m\u001b[38;5;124mstone\u001b[39m\u001b[38;5;124m\"\u001b[39m,\u001b[38;5;124m\"\u001b[39m\u001b[38;5;124mpaper\u001b[39m\u001b[38;5;124m\"\u001b[39m,\u001b[38;5;124m\"\u001b[39m\u001b[38;5;124mscissor\u001b[39m\u001b[38;5;124m\"\u001b[39m]\n\u001b[0;32m      8\u001b[0m sys\u001b[38;5;241m=\u001b[39mrandom\u001b[38;5;241m.\u001b[39mchoice(a)\n\u001b[1;32m----> 9\u001b[0m user \u001b[38;5;241m=\u001b[39m \u001b[38;5;28minput\u001b[39m(\u001b[38;5;124m\"\u001b[39m\u001b[38;5;124mselect stone or paper or scissor\u001b[39m\u001b[38;5;124m\"\u001b[39m)\n\u001b[0;32m     10\u001b[0m \u001b[38;5;28mprint\u001b[39m(sys)\n\u001b[0;32m     11\u001b[0m \u001b[38;5;28mprint\u001b[39m(user)\n",
      "File \u001b[1;32mE:\\anaconda3\\Lib\\site-packages\\ipykernel\\kernelbase.py:1202\u001b[0m, in \u001b[0;36mKernel.raw_input\u001b[1;34m(self, prompt)\u001b[0m\n\u001b[0;32m   1200\u001b[0m     msg \u001b[38;5;241m=\u001b[39m \u001b[38;5;124m\"\u001b[39m\u001b[38;5;124mraw_input was called, but this frontend does not support input requests.\u001b[39m\u001b[38;5;124m\"\u001b[39m\n\u001b[0;32m   1201\u001b[0m     \u001b[38;5;28;01mraise\u001b[39;00m StdinNotImplementedError(msg)\n\u001b[1;32m-> 1202\u001b[0m \u001b[38;5;28;01mreturn\u001b[39;00m \u001b[38;5;28mself\u001b[39m\u001b[38;5;241m.\u001b[39m_input_request(\n\u001b[0;32m   1203\u001b[0m     \u001b[38;5;28mstr\u001b[39m(prompt),\n\u001b[0;32m   1204\u001b[0m     \u001b[38;5;28mself\u001b[39m\u001b[38;5;241m.\u001b[39m_parent_ident[\u001b[38;5;124m\"\u001b[39m\u001b[38;5;124mshell\u001b[39m\u001b[38;5;124m\"\u001b[39m],\n\u001b[0;32m   1205\u001b[0m     \u001b[38;5;28mself\u001b[39m\u001b[38;5;241m.\u001b[39mget_parent(\u001b[38;5;124m\"\u001b[39m\u001b[38;5;124mshell\u001b[39m\u001b[38;5;124m\"\u001b[39m),\n\u001b[0;32m   1206\u001b[0m     password\u001b[38;5;241m=\u001b[39m\u001b[38;5;28;01mFalse\u001b[39;00m,\n\u001b[0;32m   1207\u001b[0m )\n",
      "File \u001b[1;32mE:\\anaconda3\\Lib\\site-packages\\ipykernel\\kernelbase.py:1245\u001b[0m, in \u001b[0;36mKernel._input_request\u001b[1;34m(self, prompt, ident, parent, password)\u001b[0m\n\u001b[0;32m   1242\u001b[0m \u001b[38;5;28;01mexcept\u001b[39;00m \u001b[38;5;167;01mKeyboardInterrupt\u001b[39;00m:\n\u001b[0;32m   1243\u001b[0m     \u001b[38;5;66;03m# re-raise KeyboardInterrupt, to truncate traceback\u001b[39;00m\n\u001b[0;32m   1244\u001b[0m     msg \u001b[38;5;241m=\u001b[39m \u001b[38;5;124m\"\u001b[39m\u001b[38;5;124mInterrupted by user\u001b[39m\u001b[38;5;124m\"\u001b[39m\n\u001b[1;32m-> 1245\u001b[0m     \u001b[38;5;28;01mraise\u001b[39;00m \u001b[38;5;167;01mKeyboardInterrupt\u001b[39;00m(msg) \u001b[38;5;28;01mfrom\u001b[39;00m \u001b[38;5;28;01mNone\u001b[39;00m\n\u001b[0;32m   1246\u001b[0m \u001b[38;5;28;01mexcept\u001b[39;00m \u001b[38;5;167;01mException\u001b[39;00m:\n\u001b[0;32m   1247\u001b[0m     \u001b[38;5;28mself\u001b[39m\u001b[38;5;241m.\u001b[39mlog\u001b[38;5;241m.\u001b[39mwarning(\u001b[38;5;124m\"\u001b[39m\u001b[38;5;124mInvalid Message:\u001b[39m\u001b[38;5;124m\"\u001b[39m, exc_info\u001b[38;5;241m=\u001b[39m\u001b[38;5;28;01mTrue\u001b[39;00m)\n",
      "\u001b[1;31mKeyboardInterrupt\u001b[0m: Interrupted by user"
     ]
    }
   ],
   "source": [
    "import random\n",
    "x=0\n",
    "y=0\n",
    "sscore=0\n",
    "uscore=0\n",
    "while(x<=5):\n",
    "    a=[\"stone\",\"paper\",\"scissor\"]\n",
    "    sys=random.choice(a)\n",
    "    user = input(\"select stone or paper or scissor\")\n",
    "    print(sys)\n",
    "    print(user)\n",
    "\n",
    "    if sys==\"stone\" and user==\"paper\":\n",
    "        print(\"user win\")\n",
    "        uscore=uscore+1\n",
    "    elif sys==\"scissor\" and user==\"stone\":\n",
    "        print(\"user win\")\n",
    "        uscore=uscore+1\n",
    "    elif sys==\"paper\" and user==\"scissor\":\n",
    "        print(\"user win\")\n",
    "        uscore=uscore+1\n",
    "    elif sys==\"paper\" and user==\"stone\":\n",
    "        print(\"sys win\")\n",
    "        sscore=sscore+1\n",
    "    elif sys==\"stone\" and user==\"scissor\":\n",
    "        print(\"sys win\")\n",
    "        sscore=sscore+1\n",
    "    elif sys==\"scissor\" and user==\"paper\":\n",
    "        print(\"sys win\")\n",
    "        sscore=sscore+1\n",
    "    elif user==sys:\n",
    "        print(\"draw\")\n",
    "        x=x+1\n",
    "    y=y+1\n",
    "    print(\"uscore\",uscore)\n",
    "    print(\"score\",sscore)\n",
    "if(sscore>uscore):\n",
    "    print(\"user win\")\n",
    "else:\n",
    "    print(\"sys win\")\n",
    "    \n",
    "\n",
    "    \n",
    "\n",
    "    \n",
    "    "
   ]
  },
  {
   "cell_type": "code",
   "execution_count": 61,
   "id": "489f1bfb",
   "metadata": {},
   "outputs": [
    {
     "name": "stdout",
     "output_type": "stream",
     "text": [
      "Enter a number:5\n",
      "factorial number is: 120\n"
     ]
    }
   ],
   "source": [
    "a=int(input(\"Enter a number:\"))\n",
    "fact = 1\n",
    "while (a>0):\n",
    "    fact = fact * a\n",
    "    a=a-1\n",
    "print(\"factorial number is:\",fact)\n",
    "    \n"
   ]
  },
  {
   "cell_type": "code",
   "execution_count": null,
   "id": "eb31983a",
   "metadata": {},
   "outputs": [],
   "source": [
    "x=int(input(\"Enter the limit:\"))\n",
    "a = 0\n",
    "b = 1\n",
    "temp=0\n",
    "print(a)\n",
    "print(b)\n",
    "\n",
    "while():\n",
    "    temp = a+b\n",
    "    print(temp)\n",
    "    a = b\n",
    "    b = temp\n",
    "    "
   ]
  },
  {
   "cell_type": "code",
   "execution_count": 71,
   "id": "0d185b62",
   "metadata": {},
   "outputs": [
    {
     "name": "stdout",
     "output_type": "stream",
     "text": [
      "1\n",
      "2\n",
      "3\n",
      "4\n",
      "5\n",
      "6\n",
      "7\n",
      "8\n",
      "9\n",
      "10\n"
     ]
    }
   ],
   "source": [
    "a=1\n",
    "while(True):\n",
    "    if a==11:\n",
    "        break\n",
    "    print(a)\n",
    "    a=a+1"
   ]
  },
  {
   "cell_type": "code",
   "execution_count": 7,
   "id": "0b6ca7a3",
   "metadata": {},
   "outputs": [],
   "source": [
    "def sub(a,b):\n",
    "    x=a\n",
    "    y=b\n",
    "    c=x+y\n",
    "    return(c)"
   ]
  },
  {
   "cell_type": "code",
   "execution_count": null,
   "id": "6c8495b4",
   "metadata": {},
   "outputs": [],
   "source": [
    "def sum(a,b):\n",
    "    c=a+b\n",
    "    return(c)\n",
    "def mul(a,b):\n",
    "    c=a*b\n",
    "    return(c)\n",
    "def div(a,b):\n",
    "    c=a/b\n",
    "    return(c)\n",
    "\n",
    "    \n",
    "\n"
   ]
  },
  {
   "cell_type": "code",
   "execution_count": null,
   "id": "4878a6f9",
   "metadata": {},
   "outputs": [],
   "source": [
    "a=()\n",
    "z=sum(20,10)\n",
    "print(z)\n",
    "z=div(20,10)\n",
    "print(z)\n",
    "z=mul(20,10)\n",
    "print(z)\n",
    "\n"
   ]
  },
  {
   "cell_type": "code",
   "execution_count": 5,
   "id": "6fd1fa20",
   "metadata": {},
   "outputs": [],
   "source": [
    "def fact(a):\n",
    "    fact = 1\n",
    "    b=1\n",
    "\n",
    "    while (b<=a):\n",
    "        fact = fact * b\n",
    "        b=b+1\n",
    "    return fact\n"
   ]
  },
  {
   "cell_type": "code",
   "execution_count": 6,
   "id": "0d85759f",
   "metadata": {},
   "outputs": [
    {
     "name": "stdout",
     "output_type": "stream",
     "text": [
      "40320\n"
     ]
    }
   ],
   "source": [
    "z=fact(8)\n",
    "print(z)"
   ]
  },
  {
   "cell_type": "code",
   "execution_count": 21,
   "id": "33d7f9b4",
   "metadata": {},
   "outputs": [],
   "source": [
    "import datetime\n",
    "y=datetime.datetime.now()\n",
    "def month(x):\n",
    "    if(x==1):\n",
    "        print(\"January\")\n",
    "        print(y)\n",
    "    elif(x==2):\n",
    "        print(\"February\")\n",
    "        print(y)\n",
    "    elif(x==3):\n",
    "        print(\"March\")\n",
    "        print(y)\n",
    "    elif(x==4):\n",
    "        print(\"April\")\n",
    "        print(y)\n",
    "    elif(x==5):\n",
    "        print(\"May\")\n",
    "        print(y)\n",
    "    elif(x==6):\n",
    "        print(\"June\")\n",
    "        print(y)\n",
    "    elif(x==7):\n",
    "        print(\"July\")\n",
    "        print(y)\n",
    "    elif(x==8):\n",
    "        print(\"August\")\n",
    "        print(y)\n",
    "    elif(x==9):\n",
    "        print(\"September\")\n",
    "        print(y)\n",
    "    elif(x==10):\n",
    "        print(\"October\")\n",
    "        print(y)\n",
    "    elif(x==11):\n",
    "        print(\"November\")\n",
    "        print(y)\n",
    "    elif(x==12):\n",
    "        print(\"December\")\n",
    "        print(y)\n",
    "    else:\n",
    "        print(\"it's not a month\")\n",
    "       \n",
    "\n",
    "\n",
    "\n",
    "\n",
    "    "
   ]
  },
  {
   "cell_type": "code",
   "execution_count": 22,
   "id": "3c8d1c85",
   "metadata": {},
   "outputs": [
    {
     "name": "stdout",
     "output_type": "stream",
     "text": [
      "Enter the Number: 10\n",
      "October\n",
      "2023-12-18 15:13:05.420120\n"
     ]
    }
   ],
   "source": [
    "x=int(input(\"Enter the Number: \"))\n",
    "month(x)"
   ]
  },
  {
   "cell_type": "code",
   "execution_count": 15,
   "id": "d45ab411",
   "metadata": {},
   "outputs": [
    {
     "name": "stdout",
     "output_type": "stream",
     "text": [
      "2023-12-18 15:04:00.351694\n"
     ]
    }
   ],
   "source": [
    "import datetime\n",
    "x=datetime.datetime.now()\n",
    "print(x)"
   ]
  },
  {
   "cell_type": "code",
   "execution_count": 34,
   "id": "25187920",
   "metadata": {},
   "outputs": [],
   "source": [
    "\n",
    "def prime(x):\n",
    "    c = 0\n",
    "    for i in range(1,x):\n",
    "          if(x%i==0):\n",
    "                c = c+1   \n",
    "    if c<2:\n",
    "        print(x,\"is a prime number\")\n",
    "    else:\n",
    "        print(\"it is not a prime nummber\")"
   ]
  },
  {
   "cell_type": "code",
   "execution_count": 35,
   "id": "294c11a4",
   "metadata": {},
   "outputs": [
    {
     "name": "stdout",
     "output_type": "stream",
     "text": [
      "Enter the limit: 5\n",
      "5 is a prime number\n"
     ]
    }
   ],
   "source": [
    "x=int(input(\"Enter a num: \"))\n",
    "prime(x)"
   ]
  },
  {
   "cell_type": "code",
   "execution_count": null,
   "id": "8a3134f0",
   "metadata": {},
   "outputs": [],
   "source": []
  }
 ],
 "metadata": {
  "kernelspec": {
   "display_name": "Python 3 (ipykernel)",
   "language": "python",
   "name": "python3"
  },
  "language_info": {
   "codemirror_mode": {
    "name": "ipython",
    "version": 3
   },
   "file_extension": ".py",
   "mimetype": "text/x-python",
   "name": "python",
   "nbconvert_exporter": "python",
   "pygments_lexer": "ipython3",
   "version": "3.11.5"
  }
 },
 "nbformat": 4,
 "nbformat_minor": 5
}
